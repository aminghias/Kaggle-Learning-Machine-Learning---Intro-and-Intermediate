{
 "cells": [
  {
   "cell_type": "markdown",
   "id": "75bc080f",
   "metadata": {
    "papermill": {
     "duration": 0.006425,
     "end_time": "2022-09-30T19:21:55.380852",
     "exception": false,
     "start_time": "2022-09-30T19:21:55.374427",
     "status": "completed"
    },
    "tags": []
   },
   "source": [
    "**This notebook is an exercise in the [Introduction to Machine Learning](https://www.kaggle.com/learn/intro-to-machine-learning) course.  You can reference the tutorial at [this link](https://www.kaggle.com/dansbecker/model-validation).**\n",
    "\n",
    "---\n"
   ]
  },
  {
   "cell_type": "markdown",
   "id": "cfed3d6d",
   "metadata": {
    "papermill": {
     "duration": 0.004542,
     "end_time": "2022-09-30T19:21:55.390996",
     "exception": false,
     "start_time": "2022-09-30T19:21:55.386454",
     "status": "completed"
    },
    "tags": []
   },
   "source": [
    "## Recap\n",
    "You've built a model. In this exercise you will test how good your model is.\n",
    "\n",
    "Run the cell below to set up your coding environment where the previous exercise left off."
   ]
  },
  {
   "cell_type": "code",
   "execution_count": 1,
   "id": "95ad9911",
   "metadata": {
    "execution": {
     "iopub.execute_input": "2022-09-30T19:21:55.403712Z",
     "iopub.status.busy": "2022-09-30T19:21:55.402617Z",
     "iopub.status.idle": "2022-09-30T19:21:56.861468Z",
     "shell.execute_reply": "2022-09-30T19:21:56.859069Z"
    },
    "papermill": {
     "duration": 1.469313,
     "end_time": "2022-09-30T19:21:56.865136",
     "exception": false,
     "start_time": "2022-09-30T19:21:55.395823",
     "status": "completed"
    },
    "tags": []
   },
   "outputs": [
    {
     "name": "stdout",
     "output_type": "stream",
     "text": [
      "First in-sample predictions: [208500. 181500. 223500. 140000. 250000.]\n",
      "Actual target values for those homes: [208500, 181500, 223500, 140000, 250000]\n",
      "Setup Complete\n"
     ]
    }
   ],
   "source": [
    "# Code you have previously used to load data\n",
    "import pandas as pd\n",
    "from sklearn.tree import DecisionTreeRegressor\n",
    "\n",
    "# Path of the file to read\n",
    "iowa_file_path = '../input/home-data-for-ml-course/train.csv'\n",
    "\n",
    "home_data = pd.read_csv(iowa_file_path)\n",
    "y = home_data.SalePrice\n",
    "feature_columns = ['LotArea', 'YearBuilt', '1stFlrSF', '2ndFlrSF', 'FullBath', 'BedroomAbvGr', 'TotRmsAbvGrd']\n",
    "X = home_data[feature_columns]\n",
    "\n",
    "# Specify Model\n",
    "iowa_model = DecisionTreeRegressor()\n",
    "# Fit Model\n",
    "iowa_model.fit(X, y)\n",
    "\n",
    "print(\"First in-sample predictions:\", iowa_model.predict(X.head()))\n",
    "print(\"Actual target values for those homes:\", y.head().tolist())\n",
    "\n",
    "# Set up code checking\n",
    "from learntools.core import binder\n",
    "binder.bind(globals())\n",
    "from learntools.machine_learning.ex4 import *\n",
    "print(\"Setup Complete\")"
   ]
  },
  {
   "cell_type": "markdown",
   "id": "764a8e75",
   "metadata": {
    "papermill": {
     "duration": 0.007042,
     "end_time": "2022-09-30T19:21:56.877808",
     "exception": false,
     "start_time": "2022-09-30T19:21:56.870766",
     "status": "completed"
    },
    "tags": []
   },
   "source": [
    "# Exercises\n",
    "\n",
    "## Step 1: Split Your Data\n",
    "Use the `train_test_split` function to split up your data.\n",
    "\n",
    "Give it the argument `random_state=1` so the `check` functions know what to expect when verifying your code.\n",
    "\n",
    "Recall, your features are loaded in the DataFrame **X** and your target is loaded in **y**.\n"
   ]
  },
  {
   "cell_type": "code",
   "execution_count": 2,
   "id": "86530fe4",
   "metadata": {
    "execution": {
     "iopub.execute_input": "2022-09-30T19:21:56.896709Z",
     "iopub.status.busy": "2022-09-30T19:21:56.895111Z",
     "iopub.status.idle": "2022-09-30T19:21:56.914282Z",
     "shell.execute_reply": "2022-09-30T19:21:56.913374Z"
    },
    "papermill": {
     "duration": 0.031056,
     "end_time": "2022-09-30T19:21:56.917298",
     "exception": false,
     "start_time": "2022-09-30T19:21:56.886242",
     "status": "completed"
    },
    "tags": []
   },
   "outputs": [
    {
     "data": {
      "application/javascript": [
       "parent.postMessage({\"jupyterEvent\": \"custom.exercise_interaction\", \"data\": {\"outcomeType\": 1, \"valueTowardsCompletion\": 0.25, \"interactionType\": 1, \"questionType\": 2, \"questionId\": \"1_SplitData\", \"learnToolsVersion\": \"0.3.4\", \"failureMessage\": \"\", \"exceptionClass\": \"\", \"trace\": \"\"}}, \"*\")"
      ],
      "text/plain": [
       "<IPython.core.display.Javascript object>"
      ]
     },
     "metadata": {},
     "output_type": "display_data"
    },
    {
     "data": {
      "text/markdown": [
       "<span style=\"color:#33cc33\">Correct</span>"
      ],
      "text/plain": [
       "Correct"
      ]
     },
     "metadata": {},
     "output_type": "display_data"
    }
   ],
   "source": [
    "# Import the train_test_split function and uncomment\n",
    "# from _ import _\n",
    "\n",
    "# fill in and uncomment\n",
    "# train_X, val_X, train_y, val_y = ____\n",
    "\n",
    "from sklearn.model_selection import train_test_split\n",
    "train_X, val_X, train_y, val_y = train_test_split(X, y, random_state=1)\n",
    "\n",
    "# Check your answer\n",
    "step_1.check()"
   ]
  },
  {
   "cell_type": "code",
   "execution_count": 3,
   "id": "ac1fa204",
   "metadata": {
    "execution": {
     "iopub.execute_input": "2022-09-30T19:21:56.933684Z",
     "iopub.status.busy": "2022-09-30T19:21:56.932757Z",
     "iopub.status.idle": "2022-09-30T19:21:56.945579Z",
     "shell.execute_reply": "2022-09-30T19:21:56.944117Z"
    },
    "papermill": {
     "duration": 0.0238,
     "end_time": "2022-09-30T19:21:56.947869",
     "exception": false,
     "start_time": "2022-09-30T19:21:56.924069",
     "status": "completed"
    },
    "tags": []
   },
   "outputs": [
    {
     "data": {
      "application/javascript": [
       "parent.postMessage({\"jupyterEvent\": \"custom.exercise_interaction\", \"data\": {\"interactionType\": 3, \"questionType\": 2, \"questionId\": \"1_SplitData\", \"learnToolsVersion\": \"0.3.4\", \"valueTowardsCompletion\": 0.0, \"failureMessage\": \"\", \"exceptionClass\": \"\", \"trace\": \"\", \"outcomeType\": 4}}, \"*\")"
      ],
      "text/plain": [
       "<IPython.core.display.Javascript object>"
      ]
     },
     "metadata": {},
     "output_type": "display_data"
    },
    {
     "data": {
      "text/markdown": [
       "<span style=\"color:#33cc99\">Solution:</span> \n",
       "```python\n",
       "from sklearn.model_selection import train_test_split\n",
       "train_X, val_X, train_y, val_y = train_test_split(X, y, random_state=1)\n",
       "```"
      ],
      "text/plain": [
       "Solution: \n",
       "```python\n",
       "from sklearn.model_selection import train_test_split\n",
       "train_X, val_X, train_y, val_y = train_test_split(X, y, random_state=1)\n",
       "```"
      ]
     },
     "metadata": {},
     "output_type": "display_data"
    }
   ],
   "source": [
    "# The lines below will show you a hint or the solution.\n",
    "# step_1.hint() \n",
    "step_1.solution()\n"
   ]
  },
  {
   "cell_type": "markdown",
   "id": "38a4c3ca",
   "metadata": {
    "papermill": {
     "duration": 0.005076,
     "end_time": "2022-09-30T19:21:56.958333",
     "exception": false,
     "start_time": "2022-09-30T19:21:56.953257",
     "status": "completed"
    },
    "tags": []
   },
   "source": [
    "## Step 2: Specify and Fit the Model\n",
    "\n",
    "Create a `DecisionTreeRegressor` model and fit it to the relevant data.\n",
    "Set `random_state` to 1 again when creating the model."
   ]
  },
  {
   "cell_type": "code",
   "execution_count": 4,
   "id": "793096ff",
   "metadata": {
    "execution": {
     "iopub.execute_input": "2022-09-30T19:21:56.970723Z",
     "iopub.status.busy": "2022-09-30T19:21:56.970300Z",
     "iopub.status.idle": "2022-09-30T19:21:56.998902Z",
     "shell.execute_reply": "2022-09-30T19:21:56.997271Z"
    },
    "papermill": {
     "duration": 0.037804,
     "end_time": "2022-09-30T19:21:57.001486",
     "exception": false,
     "start_time": "2022-09-30T19:21:56.963682",
     "status": "completed"
    },
    "tags": []
   },
   "outputs": [
    {
     "name": "stdout",
     "output_type": "stream",
     "text": [
      "[186500. 184000. 130000.  92000. 164500. 220000. 335000. 144152. 215000.\n",
      " 262000.]\n",
      "[186500. 184000. 130000.  92000. 164500. 220000. 335000. 144152. 215000.\n",
      " 262000.]\n"
     ]
    },
    {
     "data": {
      "application/javascript": [
       "parent.postMessage({\"jupyterEvent\": \"custom.exercise_interaction\", \"data\": {\"outcomeType\": 1, \"valueTowardsCompletion\": 0.25, \"interactionType\": 1, \"questionType\": 2, \"questionId\": \"2_FitModelWithTrain\", \"learnToolsVersion\": \"0.3.4\", \"failureMessage\": \"\", \"exceptionClass\": \"\", \"trace\": \"\"}}, \"*\")"
      ],
      "text/plain": [
       "<IPython.core.display.Javascript object>"
      ]
     },
     "metadata": {},
     "output_type": "display_data"
    },
    {
     "data": {
      "text/markdown": [
       "<span style=\"color:#33cc33\">Correct</span>"
      ],
      "text/plain": [
       "Correct"
      ]
     },
     "metadata": {},
     "output_type": "display_data"
    }
   ],
   "source": [
    "# You imported DecisionTreeRegressor in your last exercise\n",
    "# and that code has been copied to the setup code above. So, no need to\n",
    "# import it again\n",
    "\n",
    "# Specify the model\n",
    "# iowa_model = ____\n",
    "\n",
    "iowa_model = DecisionTreeRegressor(random_state=1)\n",
    "iowa_model.fit(train_X, train_y)\n",
    "\n",
    "# Fit iowa_model with the training data.\n",
    "____\n",
    "\n",
    "# Check your answer\n",
    "step_2.check()"
   ]
  },
  {
   "cell_type": "code",
   "execution_count": 5,
   "id": "30cd2053",
   "metadata": {
    "execution": {
     "iopub.execute_input": "2022-09-30T19:21:57.015729Z",
     "iopub.status.busy": "2022-09-30T19:21:57.015256Z",
     "iopub.status.idle": "2022-09-30T19:21:57.023572Z",
     "shell.execute_reply": "2022-09-30T19:21:57.022436Z"
    },
    "papermill": {
     "duration": 0.017884,
     "end_time": "2022-09-30T19:21:57.025694",
     "exception": false,
     "start_time": "2022-09-30T19:21:57.007810",
     "status": "completed"
    },
    "tags": []
   },
   "outputs": [
    {
     "data": {
      "application/javascript": [
       "parent.postMessage({\"jupyterEvent\": \"custom.exercise_interaction\", \"data\": {\"interactionType\": 3, \"questionType\": 2, \"questionId\": \"2_FitModelWithTrain\", \"learnToolsVersion\": \"0.3.4\", \"valueTowardsCompletion\": 0.0, \"failureMessage\": \"\", \"exceptionClass\": \"\", \"trace\": \"\", \"outcomeType\": 4}}, \"*\")"
      ],
      "text/plain": [
       "<IPython.core.display.Javascript object>"
      ]
     },
     "metadata": {},
     "output_type": "display_data"
    },
    {
     "data": {
      "text/markdown": [
       "<span style=\"color:#33cc99\">Solution:</span> \n",
       "```python\n",
       "iowa_model = DecisionTreeRegressor(random_state=1)\n",
       "iowa_model.fit(train_X, train_y)\n",
       "```"
      ],
      "text/plain": [
       "Solution: \n",
       "```python\n",
       "iowa_model = DecisionTreeRegressor(random_state=1)\n",
       "iowa_model.fit(train_X, train_y)\n",
       "```"
      ]
     },
     "metadata": {},
     "output_type": "display_data"
    }
   ],
   "source": [
    "# step_2.hint()\n",
    "step_2.solution()"
   ]
  },
  {
   "cell_type": "markdown",
   "id": "73821a2e",
   "metadata": {
    "papermill": {
     "duration": 0.005581,
     "end_time": "2022-09-30T19:21:57.037505",
     "exception": false,
     "start_time": "2022-09-30T19:21:57.031924",
     "status": "completed"
    },
    "tags": []
   },
   "source": [
    "## Step 3: Make Predictions with Validation data\n"
   ]
  },
  {
   "cell_type": "code",
   "execution_count": 6,
   "id": "975e2f8e",
   "metadata": {
    "execution": {
     "iopub.execute_input": "2022-09-30T19:21:57.052128Z",
     "iopub.status.busy": "2022-09-30T19:21:57.050863Z",
     "iopub.status.idle": "2022-09-30T19:21:57.063435Z",
     "shell.execute_reply": "2022-09-30T19:21:57.062659Z"
    },
    "papermill": {
     "duration": 0.022346,
     "end_time": "2022-09-30T19:21:57.065937",
     "exception": false,
     "start_time": "2022-09-30T19:21:57.043591",
     "status": "completed"
    },
    "tags": []
   },
   "outputs": [
    {
     "data": {
      "application/javascript": [
       "parent.postMessage({\"jupyterEvent\": \"custom.exercise_interaction\", \"data\": {\"outcomeType\": 1, \"valueTowardsCompletion\": 0.25, \"interactionType\": 1, \"questionType\": 2, \"questionId\": \"3_ValPreds\", \"learnToolsVersion\": \"0.3.4\", \"failureMessage\": \"\", \"exceptionClass\": \"\", \"trace\": \"\"}}, \"*\")"
      ],
      "text/plain": [
       "<IPython.core.display.Javascript object>"
      ]
     },
     "metadata": {},
     "output_type": "display_data"
    },
    {
     "data": {
      "text/markdown": [
       "<span style=\"color:#33cc33\">Correct</span>"
      ],
      "text/plain": [
       "Correct"
      ]
     },
     "metadata": {},
     "output_type": "display_data"
    }
   ],
   "source": [
    "# Predict with all validation observations\n",
    "val_predictions = ____\n",
    "val_predictions = iowa_model.predict(val_X)\n",
    "\n",
    "# Check your answer\n",
    "step_3.check()"
   ]
  },
  {
   "cell_type": "code",
   "execution_count": 7,
   "id": "e112873b",
   "metadata": {
    "execution": {
     "iopub.execute_input": "2022-09-30T19:21:57.081071Z",
     "iopub.status.busy": "2022-09-30T19:21:57.080345Z",
     "iopub.status.idle": "2022-09-30T19:21:57.088752Z",
     "shell.execute_reply": "2022-09-30T19:21:57.087713Z"
    },
    "papermill": {
     "duration": 0.018986,
     "end_time": "2022-09-30T19:21:57.090923",
     "exception": false,
     "start_time": "2022-09-30T19:21:57.071937",
     "status": "completed"
    },
    "tags": []
   },
   "outputs": [
    {
     "data": {
      "application/javascript": [
       "parent.postMessage({\"jupyterEvent\": \"custom.exercise_interaction\", \"data\": {\"interactionType\": 3, \"questionType\": 2, \"questionId\": \"3_ValPreds\", \"learnToolsVersion\": \"0.3.4\", \"valueTowardsCompletion\": 0.0, \"failureMessage\": \"\", \"exceptionClass\": \"\", \"trace\": \"\", \"outcomeType\": 4}}, \"*\")"
      ],
      "text/plain": [
       "<IPython.core.display.Javascript object>"
      ]
     },
     "metadata": {},
     "output_type": "display_data"
    },
    {
     "data": {
      "text/markdown": [
       "<span style=\"color:#33cc99\">Solution:</span> \n",
       "```python\n",
       "val_predictions = iowa_model.predict(val_X)\n",
       "```"
      ],
      "text/plain": [
       "Solution: \n",
       "```python\n",
       "val_predictions = iowa_model.predict(val_X)\n",
       "```"
      ]
     },
     "metadata": {},
     "output_type": "display_data"
    }
   ],
   "source": [
    "# step_3.hint()\n",
    "step_3.solution()"
   ]
  },
  {
   "cell_type": "code",
   "execution_count": 8,
   "id": "83211a4c",
   "metadata": {
    "execution": {
     "iopub.execute_input": "2022-09-30T19:21:57.104569Z",
     "iopub.status.busy": "2022-09-30T19:21:57.104155Z",
     "iopub.status.idle": "2022-09-30T19:21:57.109514Z",
     "shell.execute_reply": "2022-09-30T19:21:57.108450Z"
    },
    "papermill": {
     "duration": 0.014647,
     "end_time": "2022-09-30T19:21:57.111705",
     "exception": false,
     "start_time": "2022-09-30T19:21:57.097058",
     "status": "completed"
    },
    "tags": []
   },
   "outputs": [],
   "source": [
    "y_pred=pd.DataFrame(val_predictions)"
   ]
  },
  {
   "cell_type": "markdown",
   "id": "c6d05e19",
   "metadata": {
    "papermill": {
     "duration": 0.005885,
     "end_time": "2022-09-30T19:21:57.123917",
     "exception": false,
     "start_time": "2022-09-30T19:21:57.118032",
     "status": "completed"
    },
    "tags": []
   },
   "source": [
    "Inspect your predictions and actual values from validation data."
   ]
  },
  {
   "cell_type": "code",
   "execution_count": 9,
   "id": "afda5623",
   "metadata": {
    "execution": {
     "iopub.execute_input": "2022-09-30T19:21:57.138382Z",
     "iopub.status.busy": "2022-09-30T19:21:57.137949Z",
     "iopub.status.idle": "2022-09-30T19:21:57.148011Z",
     "shell.execute_reply": "2022-09-30T19:21:57.146772Z"
    },
    "papermill": {
     "duration": 0.020673,
     "end_time": "2022-09-30T19:21:57.150905",
     "exception": false,
     "start_time": "2022-09-30T19:21:57.130232",
     "status": "completed"
    },
    "tags": []
   },
   "outputs": [
    {
     "name": "stdout",
     "output_type": "stream",
     "text": [
      "          0\n",
      "0  186500.0\n",
      "1  184000.0\n",
      "2  130000.0\n",
      "3   92000.0\n",
      "4  164500.0\n",
      "0    208500\n",
      "1    181500\n",
      "2    223500\n",
      "3    140000\n",
      "4    250000\n",
      "Name: SalePrice, dtype: int64\n"
     ]
    }
   ],
   "source": [
    "# print the top few validation predictions\n",
    "print(y_pred.head())\n",
    "\n",
    "# print the top few actual prices from validation data\n",
    "print(y.head())"
   ]
  },
  {
   "cell_type": "markdown",
   "id": "3a507479",
   "metadata": {
    "papermill": {
     "duration": 0.006046,
     "end_time": "2022-09-30T19:21:57.163970",
     "exception": false,
     "start_time": "2022-09-30T19:21:57.157924",
     "status": "completed"
    },
    "tags": []
   },
   "source": [
    "What do you notice that is different from what you saw with in-sample predictions (which are printed after the top code cell in this page).\n",
    "\n",
    "Do you remember why validation predictions differ from in-sample (or training) predictions? This is an important idea from the last lesson.\n",
    "\n",
    "## Step 4: Calculate the Mean Absolute Error in Validation Data\n"
   ]
  },
  {
   "cell_type": "code",
   "execution_count": 10,
   "id": "97cfcd6c",
   "metadata": {
    "execution": {
     "iopub.execute_input": "2022-09-30T19:21:57.179248Z",
     "iopub.status.busy": "2022-09-30T19:21:57.178268Z",
     "iopub.status.idle": "2022-09-30T19:21:57.187807Z",
     "shell.execute_reply": "2022-09-30T19:21:57.186658Z"
    },
    "papermill": {
     "duration": 0.02018,
     "end_time": "2022-09-30T19:21:57.190492",
     "exception": false,
     "start_time": "2022-09-30T19:21:57.170312",
     "status": "completed"
    },
    "tags": []
   },
   "outputs": [
    {
     "data": {
      "application/javascript": [
       "parent.postMessage({\"jupyterEvent\": \"custom.exercise_interaction\", \"data\": {\"outcomeType\": 1, \"valueTowardsCompletion\": 0.25, \"interactionType\": 1, \"questionType\": 1, \"questionId\": \"4_MAE\", \"learnToolsVersion\": \"0.3.4\", \"failureMessage\": \"\", \"exceptionClass\": \"\", \"trace\": \"\"}}, \"*\")"
      ],
      "text/plain": [
       "<IPython.core.display.Javascript object>"
      ]
     },
     "metadata": {},
     "output_type": "display_data"
    },
    {
     "data": {
      "text/markdown": [
       "<span style=\"color:#33cc33\">Correct</span>"
      ],
      "text/plain": [
       "Correct"
      ]
     },
     "metadata": {},
     "output_type": "display_data"
    }
   ],
   "source": [
    "from sklearn.metrics import mean_absolute_error\n",
    "val_mae = mean_absolute_error(val_predictions, val_y)\n",
    "\n",
    "# uncomment following line to see the validation_mae\n",
    "#print(val_mae)\n",
    "\n",
    "# Check your answer\n",
    "step_4.check()"
   ]
  },
  {
   "cell_type": "code",
   "execution_count": 11,
   "id": "786c3b04",
   "metadata": {
    "execution": {
     "iopub.execute_input": "2022-09-30T19:21:57.206471Z",
     "iopub.status.busy": "2022-09-30T19:21:57.205446Z",
     "iopub.status.idle": "2022-09-30T19:21:57.214332Z",
     "shell.execute_reply": "2022-09-30T19:21:57.213293Z"
    },
    "papermill": {
     "duration": 0.019128,
     "end_time": "2022-09-30T19:21:57.216621",
     "exception": false,
     "start_time": "2022-09-30T19:21:57.197493",
     "status": "completed"
    },
    "tags": []
   },
   "outputs": [
    {
     "data": {
      "application/javascript": [
       "parent.postMessage({\"jupyterEvent\": \"custom.exercise_interaction\", \"data\": {\"interactionType\": 3, \"questionType\": 1, \"questionId\": \"4_MAE\", \"learnToolsVersion\": \"0.3.4\", \"valueTowardsCompletion\": 0.0, \"failureMessage\": \"\", \"exceptionClass\": \"\", \"trace\": \"\", \"outcomeType\": 4}}, \"*\")"
      ],
      "text/plain": [
       "<IPython.core.display.Javascript object>"
      ]
     },
     "metadata": {},
     "output_type": "display_data"
    },
    {
     "data": {
      "text/markdown": [
       "<span style=\"color:#33cc99\">Solution:</span> \n",
       "```python\n",
       "val_mae = mean_absolute_error(val_y, val_predictions)\n",
       "```"
      ],
      "text/plain": [
       "Solution: \n",
       "```python\n",
       "val_mae = mean_absolute_error(val_y, val_predictions)\n",
       "```"
      ]
     },
     "metadata": {},
     "output_type": "display_data"
    }
   ],
   "source": [
    "# step_4.hint()\n",
    "step_4.solution()"
   ]
  },
  {
   "cell_type": "markdown",
   "id": "4553e0ef",
   "metadata": {
    "papermill": {
     "duration": 0.006509,
     "end_time": "2022-09-30T19:21:57.229961",
     "exception": false,
     "start_time": "2022-09-30T19:21:57.223452",
     "status": "completed"
    },
    "tags": []
   },
   "source": [
    "Is that MAE good?  There isn't a general rule for what values are good that applies across applications. But you'll see how to use (and improve) this number in the next step.\n",
    "\n",
    "# Keep Going\n",
    "\n",
    "You are ready for **[Underfitting and Overfitting](https://www.kaggle.com/dansbecker/underfitting-and-overfitting).**\n"
   ]
  },
  {
   "cell_type": "markdown",
   "id": "d9e5daae",
   "metadata": {
    "papermill": {
     "duration": 0.006393,
     "end_time": "2022-09-30T19:21:57.243059",
     "exception": false,
     "start_time": "2022-09-30T19:21:57.236666",
     "status": "completed"
    },
    "tags": []
   },
   "source": [
    "---\n",
    "\n",
    "\n",
    "\n",
    "\n",
    "*Have questions or comments? Visit the [Learn Discussion forum](https://www.kaggle.com/learn-forum/161285) to chat with other Learners.*"
   ]
  }
 ],
 "metadata": {
  "kernelspec": {
   "display_name": "Python 3",
   "language": "python",
   "name": "python3"
  },
  "language_info": {
   "codemirror_mode": {
    "name": "ipython",
    "version": 3
   },
   "file_extension": ".py",
   "mimetype": "text/x-python",
   "name": "python",
   "nbconvert_exporter": "python",
   "pygments_lexer": "ipython3",
   "version": "3.7.12"
  },
  "papermill": {
   "default_parameters": {},
   "duration": 11.792376,
   "end_time": "2022-09-30T19:21:57.971575",
   "environment_variables": {},
   "exception": null,
   "input_path": "__notebook__.ipynb",
   "output_path": "__notebook__.ipynb",
   "parameters": {},
   "start_time": "2022-09-30T19:21:46.179199",
   "version": "2.3.4"
  }
 },
 "nbformat": 4,
 "nbformat_minor": 5
}
